{
  "nbformat": 4,
  "nbformat_minor": 0,
  "metadata": {
    "colab": {
      "provenance": []
    },
    "kernelspec": {
      "name": "python3",
      "display_name": "Python 3"
    },
    "language_info": {
      "name": "python"
    }
  },
  "cells": [
    {
      "cell_type": "code",
      "execution_count": null,
      "metadata": {
        "id": "3oRhjXzsnkZc"
      },
      "outputs": [],
      "source": [
        "num1=int(input(\"enter a number\"))\n",
        "num2=int(input(\"enter another number\"))\n",
        "sum=num1+num2\n",
        "print(\"sum is\", sum)\n"
      ]
    },
    {
      "cell_type": "markdown",
      "source": [
        "print(\"Please enter your biodata information:\")\n",
        "name = input(\"Name: \")\n",
        "age = input(\"Age: \")\n",
        "gender = input(\"Gender: \")\n",
        "address = input(\"Address: \")\n",
        "phone = input(\"Phone Number: \")\n",
        "email = input(\"Email: \")\n",
        "print(\"\\nEducational Background:\")\n",
        "highest_education = input(\"Highest Education Level: \")\n",
        "university = input(\"University/College: \")\n",
        "graduation_year = input(\"Year of Graduation: \")\n",
        "print(\"\\nWork Experience:\")\n",
        "company = input(\"Current/Last Company: \")\n",
        "job_title = input(\"Job Title: \")\n",
        "years_experience = input(\"Years of Experience: \")\n",
        "print(\"\\nAdditional Information:\")\n",
        "skills = input(\"Skills (comma-separated): \")\n",
        "hobbies = input(\"Hobbies: \")\n",
        "print(\"\\n--- Biodata Information ---\")\n",
        "print(f\"Name: {name}\")\n",
        "print(f\"Age: {age}\")\n",
        "print(f\"Gender: {gender}\")\n",
        "print(f\"Address: {address}\")\n",
        "print(f\"Phone Number: {phone}\")\n",
        "print(f\"Email: {email}\")\n",
        "print(\"\\nEducational Background:\")\n",
        "print(f\"Highest Education Level: {highest_education}\")\n",
        "print(f\"University/College: {university}\")\n",
        "print(f\"Year of Graduation: {graduation_year}\")\n",
        "print(\"\\nWork Experience:\")\n",
        "print(f\"Current/Last Company: {company}\")\n",
        "print(f\"Job Title: {job_title}\")\n",
        "print(f\"Years of Experience: {years_experience}\")\n",
        "print(\"\\nAdditional Information:\")\n",
        "print(f\"Skills: {skills}\")\n",
        "print(f\"Hobbies: {hobbies}\")\n"
      ],
      "metadata": {
        "id": "KN6zOiYInwDE"
      }
    }
  ]
}